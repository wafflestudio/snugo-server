{
 "cells": [
  {
   "cell_type": "code",
   "execution_count": 34,
   "id": "c769f029",
   "metadata": {},
   "outputs": [],
   "source": [
    "from bs4 import BeautifulSoup\n",
    "import pandas as pd"
   ]
  },
  {
   "cell_type": "code",
   "execution_count": 35,
   "id": "3401c23c",
   "metadata": {},
   "outputs": [],
   "source": [
    "path = \"E:/All_Project/project_python/wackathon-2024/source\"\n",
    "excel_filename = path + \"/output.xlsx\"\n",
    "\n",
    "\n",
    "building_names = set()\n",
    "res_list = []\n",
    "data = {\"이름\": [], \"lat\": [], \"lon\": [], \"url\": []}\n",
    "\n",
    "for i in range(1, 10):\n",
    "    filepath = path + f\"/search{i}.txt\"\n",
    "    with open(filepath, \"r\", encoding=\"utf-8\") as file:\n",
    "        file_content = file.read()\n",
    "#     print(file_content)\n",
    "    soup = BeautifulSoup(file_content, \"html.parser\")\n",
    "    add_category_div = soup.find(\"div\", id=\"add_category\")\n",
    "    inner_divs = add_category_div.find_all(\"div\")\n",
    "    for each_div in inner_divs:\n",
    "#         print(each_div)\n",
    "        _name = each_div.select_one(\"div a strong\")\n",
    "        if _name:\n",
    "            name = _name.text\n",
    "            url = each_div.select_one(\".placeCon .clickPlace a\")[\"href\"]\n",
    "            \n",
    "            params = url.split(\"?\")[1].split(\"&\")\n",
    "            lat_val = params[0].split(\"=\")[1]\n",
    "            lon_val = params[1].split(\"=\")[1]\n",
    "#             print(name, lat_val, lon_val)\n",
    "            if name in building_names:\n",
    "                continue\n",
    "            building_names.add(name)\n",
    "            data[\"이름\"].append(name)\n",
    "            data[\"lat\"].append(lat_val)\n",
    "            data[\"lon\"].append(lon_val)\n",
    "            data[\"url\"].append(url)\n",
    "\n",
    "            \n",
    "df = pd.DataFrame(data)\n",
    "\n",
    "df.to_excel(excel_filename, index=False)            \n",
    "\n",
    "            \n",
    "            \n",
    "            \n",
    "    \n",
    "    \n",
    "    "
   ]
  }
 ],
 "metadata": {
  "kernelspec": {
   "display_name": "Python 3 (ipykernel)",
   "language": "python",
   "name": "python3"
  },
  "language_info": {
   "codemirror_mode": {
    "name": "ipython",
    "version": 3
   },
   "file_extension": ".py",
   "mimetype": "text/x-python",
   "name": "python",
   "nbconvert_exporter": "python",
   "pygments_lexer": "ipython3",
   "version": "3.10.9"
  }
 },
 "nbformat": 4,
 "nbformat_minor": 5
}
